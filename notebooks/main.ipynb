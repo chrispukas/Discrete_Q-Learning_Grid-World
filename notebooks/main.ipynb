{
 "cells": [
  {
   "cell_type": "code",
   "execution_count": null,
   "id": "cb929c6d",
   "metadata": {},
   "outputs": [],
   "source": [
    "reward_table = create_reward_table()\n",
    "print_env(reward_table)\n",
    "result, metrics = agent.run_agent(reward_table)"
   ]
  },
  {
   "cell_type": "code",
   "execution_count": null,
   "id": "08987e80",
   "metadata": {
    "vscode": {
     "languageId": "plaintext"
    }
   },
   "outputs": [],
   "source": []
  }
 ],
 "metadata": {
  "language_info": {
   "name": "python"
  }
 },
 "nbformat": 4,
 "nbformat_minor": 5
}
